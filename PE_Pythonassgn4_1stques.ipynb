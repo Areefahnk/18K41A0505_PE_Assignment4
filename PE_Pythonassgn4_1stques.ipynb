{
  "nbformat": 4,
  "nbformat_minor": 0,
  "metadata": {
    "colab": {
      "name": "PE_Pythonassgn4_1stques.ipynb",
      "provenance": [],
      "authorship_tag": "ABX9TyOmZNsSs3TgVImLQkOTvoNF",
      "include_colab_link": true
    },
    "kernelspec": {
      "name": "python3",
      "display_name": "Python 3"
    }
  },
  "cells": [
    {
      "cell_type": "markdown",
      "metadata": {
        "id": "view-in-github",
        "colab_type": "text"
      },
      "source": [
        "<a href=\"https://colab.research.google.com/github/Areefahnk/18K41A0505_PE_Assignment4/blob/main/PE_Pythonassgn4_1stques.ipynb\" target=\"_parent\"><img src=\"https://colab.research.google.com/assets/colab-badge.svg\" alt=\"Open In Colab\"/></a>"
      ]
    },
    {
      "cell_type": "markdown",
      "metadata": {
        "id": "9IKfCurA9WYA"
      },
      "source": [
        "1.\tFind the salary for the experience of 4.2 years and 5.2 years from the given dataset (salary_data) using simple linear regression. Train the model up to 10 iteration. And plot graph for error rate."
      ]
    },
    {
      "cell_type": "code",
      "metadata": {
        "id": "4xMUSCH67ov_"
      },
      "source": [
        "import numpy as np\n",
        "import pandas as pd\n",
        "import matplotlib.pyplot as plt"
      ],
      "execution_count": 1,
      "outputs": []
    },
    {
      "cell_type": "code",
      "metadata": {
        "id": "mZ3D5NeR7qOX",
        "outputId": "5db7afc9-c8bb-4db1-d6fd-a89488cd5d8c",
        "colab": {
          "base_uri": "https://localhost:8080/",
          "height": 34
        }
      },
      "source": [
        "from google.colab import drive\n",
        "drive.mount('/content/drive')"
      ],
      "execution_count": 2,
      "outputs": [
        {
          "output_type": "stream",
          "text": [
            "Mounted at /content/drive\n"
          ],
          "name": "stdout"
        }
      ]
    },
    {
      "cell_type": "code",
      "metadata": {
        "id": "rBnjUkv27t7a",
        "outputId": "2761e555-27a1-44de-ac97-08d42a5a1412",
        "colab": {
          "base_uri": "https://localhost:8080/",
          "height": 947
        }
      },
      "source": [
        "df = pd.read_csv(r'/content/drive/My Drive/Salary_Data.csv')\n",
        "df"
      ],
      "execution_count": 3,
      "outputs": [
        {
          "output_type": "execute_result",
          "data": {
            "text/html": [
              "<div>\n",
              "<style scoped>\n",
              "    .dataframe tbody tr th:only-of-type {\n",
              "        vertical-align: middle;\n",
              "    }\n",
              "\n",
              "    .dataframe tbody tr th {\n",
              "        vertical-align: top;\n",
              "    }\n",
              "\n",
              "    .dataframe thead th {\n",
              "        text-align: right;\n",
              "    }\n",
              "</style>\n",
              "<table border=\"1\" class=\"dataframe\">\n",
              "  <thead>\n",
              "    <tr style=\"text-align: right;\">\n",
              "      <th></th>\n",
              "      <th>YearsExperience</th>\n",
              "      <th>Salary</th>\n",
              "    </tr>\n",
              "  </thead>\n",
              "  <tbody>\n",
              "    <tr>\n",
              "      <th>0</th>\n",
              "      <td>1.1</td>\n",
              "      <td>39343.0</td>\n",
              "    </tr>\n",
              "    <tr>\n",
              "      <th>1</th>\n",
              "      <td>1.3</td>\n",
              "      <td>46205.0</td>\n",
              "    </tr>\n",
              "    <tr>\n",
              "      <th>2</th>\n",
              "      <td>1.5</td>\n",
              "      <td>37731.0</td>\n",
              "    </tr>\n",
              "    <tr>\n",
              "      <th>3</th>\n",
              "      <td>2.0</td>\n",
              "      <td>43525.0</td>\n",
              "    </tr>\n",
              "    <tr>\n",
              "      <th>4</th>\n",
              "      <td>2.2</td>\n",
              "      <td>39891.0</td>\n",
              "    </tr>\n",
              "    <tr>\n",
              "      <th>5</th>\n",
              "      <td>2.9</td>\n",
              "      <td>56642.0</td>\n",
              "    </tr>\n",
              "    <tr>\n",
              "      <th>6</th>\n",
              "      <td>3.0</td>\n",
              "      <td>60150.0</td>\n",
              "    </tr>\n",
              "    <tr>\n",
              "      <th>7</th>\n",
              "      <td>3.2</td>\n",
              "      <td>54445.0</td>\n",
              "    </tr>\n",
              "    <tr>\n",
              "      <th>8</th>\n",
              "      <td>3.2</td>\n",
              "      <td>64445.0</td>\n",
              "    </tr>\n",
              "    <tr>\n",
              "      <th>9</th>\n",
              "      <td>3.7</td>\n",
              "      <td>57189.0</td>\n",
              "    </tr>\n",
              "    <tr>\n",
              "      <th>10</th>\n",
              "      <td>3.9</td>\n",
              "      <td>63218.0</td>\n",
              "    </tr>\n",
              "    <tr>\n",
              "      <th>11</th>\n",
              "      <td>4.0</td>\n",
              "      <td>55794.0</td>\n",
              "    </tr>\n",
              "    <tr>\n",
              "      <th>12</th>\n",
              "      <td>4.0</td>\n",
              "      <td>56957.0</td>\n",
              "    </tr>\n",
              "    <tr>\n",
              "      <th>13</th>\n",
              "      <td>4.1</td>\n",
              "      <td>57081.0</td>\n",
              "    </tr>\n",
              "    <tr>\n",
              "      <th>14</th>\n",
              "      <td>4.5</td>\n",
              "      <td>61111.0</td>\n",
              "    </tr>\n",
              "    <tr>\n",
              "      <th>15</th>\n",
              "      <td>4.9</td>\n",
              "      <td>67938.0</td>\n",
              "    </tr>\n",
              "    <tr>\n",
              "      <th>16</th>\n",
              "      <td>5.1</td>\n",
              "      <td>66029.0</td>\n",
              "    </tr>\n",
              "    <tr>\n",
              "      <th>17</th>\n",
              "      <td>5.3</td>\n",
              "      <td>83088.0</td>\n",
              "    </tr>\n",
              "    <tr>\n",
              "      <th>18</th>\n",
              "      <td>5.9</td>\n",
              "      <td>81363.0</td>\n",
              "    </tr>\n",
              "    <tr>\n",
              "      <th>19</th>\n",
              "      <td>6.0</td>\n",
              "      <td>93940.0</td>\n",
              "    </tr>\n",
              "    <tr>\n",
              "      <th>20</th>\n",
              "      <td>6.8</td>\n",
              "      <td>91738.0</td>\n",
              "    </tr>\n",
              "    <tr>\n",
              "      <th>21</th>\n",
              "      <td>7.1</td>\n",
              "      <td>98273.0</td>\n",
              "    </tr>\n",
              "    <tr>\n",
              "      <th>22</th>\n",
              "      <td>7.9</td>\n",
              "      <td>101302.0</td>\n",
              "    </tr>\n",
              "    <tr>\n",
              "      <th>23</th>\n",
              "      <td>8.2</td>\n",
              "      <td>113812.0</td>\n",
              "    </tr>\n",
              "    <tr>\n",
              "      <th>24</th>\n",
              "      <td>8.7</td>\n",
              "      <td>109431.0</td>\n",
              "    </tr>\n",
              "    <tr>\n",
              "      <th>25</th>\n",
              "      <td>9.0</td>\n",
              "      <td>105582.0</td>\n",
              "    </tr>\n",
              "    <tr>\n",
              "      <th>26</th>\n",
              "      <td>9.5</td>\n",
              "      <td>116969.0</td>\n",
              "    </tr>\n",
              "    <tr>\n",
              "      <th>27</th>\n",
              "      <td>9.6</td>\n",
              "      <td>112635.0</td>\n",
              "    </tr>\n",
              "    <tr>\n",
              "      <th>28</th>\n",
              "      <td>10.3</td>\n",
              "      <td>122391.0</td>\n",
              "    </tr>\n",
              "    <tr>\n",
              "      <th>29</th>\n",
              "      <td>10.5</td>\n",
              "      <td>121872.0</td>\n",
              "    </tr>\n",
              "  </tbody>\n",
              "</table>\n",
              "</div>"
            ],
            "text/plain": [
              "    YearsExperience    Salary\n",
              "0               1.1   39343.0\n",
              "1               1.3   46205.0\n",
              "2               1.5   37731.0\n",
              "3               2.0   43525.0\n",
              "4               2.2   39891.0\n",
              "5               2.9   56642.0\n",
              "6               3.0   60150.0\n",
              "7               3.2   54445.0\n",
              "8               3.2   64445.0\n",
              "9               3.7   57189.0\n",
              "10              3.9   63218.0\n",
              "11              4.0   55794.0\n",
              "12              4.0   56957.0\n",
              "13              4.1   57081.0\n",
              "14              4.5   61111.0\n",
              "15              4.9   67938.0\n",
              "16              5.1   66029.0\n",
              "17              5.3   83088.0\n",
              "18              5.9   81363.0\n",
              "19              6.0   93940.0\n",
              "20              6.8   91738.0\n",
              "21              7.1   98273.0\n",
              "22              7.9  101302.0\n",
              "23              8.2  113812.0\n",
              "24              8.7  109431.0\n",
              "25              9.0  105582.0\n",
              "26              9.5  116969.0\n",
              "27              9.6  112635.0\n",
              "28             10.3  122391.0\n",
              "29             10.5  121872.0"
            ]
          },
          "metadata": {
            "tags": []
          },
          "execution_count": 3
        }
      ]
    },
    {
      "cell_type": "code",
      "metadata": {
        "id": "4ZSS6pnD79aQ",
        "outputId": "7e3115f6-bb32-462c-b0b8-6ae3cef212f8",
        "colab": {
          "base_uri": "https://localhost:8080/",
          "height": 296
        }
      },
      "source": [
        "%matplotlib inline\n",
        "plt.scatter(df.YearsExperience,df.Salary,marker='+')\n",
        "plt.xlabel('YearsExperience')\n",
        "plt.ylabel('Salary')"
      ],
      "execution_count": 35,
      "outputs": [
        {
          "output_type": "execute_result",
          "data": {
            "text/plain": [
              "Text(0, 0.5, 'Salary')"
            ]
          },
          "metadata": {
            "tags": []
          },
          "execution_count": 35
        },
        {
          "output_type": "display_data",
          "data": {
            "image/png": "[encoded data removed]",
            "text/plain": [
              "<Figure size 432x288 with 1 Axes>"
            ]
          },
          "metadata": {
            "tags": [],
            "needs_background": "light"
          }
        }
      ]
    },
    {
      "cell_type": "code",
      "metadata": {
        "id": "UBBkBb4S8BH3"
      },
      "source": [
        "er=[]\n",
        "m1=[]\n",
        "c1=[]\n",
        "te=[]\n",
        "def compute_error(c, m, x,y):\n",
        "    totalError = 0\n",
        "    x = x\n",
        "    y = y\n",
        "    #print(c,m)\n",
        "    m1.append(m)\n",
        "    c1.append(c)\n",
        "    for i in range(0,len(x)):\n",
        "        totalError+=(((m * x[i] + c)-y[i]) ** 2)\n",
        "      #te.append(totalError)\n",
        "    #print(te)\n",
        "    #err=(np.array(te).sum())\n",
        "    er.append(totalError/len(x))\n",
        "    #print(er)\n",
        "\n",
        "def step_gradient(c_current, m_current, x,y, learningRate):\n",
        "    c_gradient = 0.0\n",
        "    m_gradient = 0.0\n",
        "    N = float(len(x))\n",
        "    x = x\n",
        "    y = y\n",
        "    cg=[]\n",
        "    mg=[]\n",
        "    for i in range(0,len(x)):\n",
        "        cg.append(((m_current * x[i]) + c_current)-y[i])\n",
        "        mg.append(x[i] * (((m_current * x) + c_current)-y[i]))\n",
        "    c_gradient=(np.array(cg).sum())/N\n",
        "    m_gradient=(np.array(mg).sum())/N\n",
        "    new_c = c_current - (learningRate * c_gradient)\n",
        "    new_m = m_current - (learningRate * m_gradient)\n",
        "    compute_error(new_c,new_m,x,y)\n",
        "    return [new_c, new_m]\n",
        "\n",
        "def gradient_descent_runner(x,y, starting_c, starting_m, learning_rate, num_iterations):\n",
        "    c = starting_c\n",
        "    m = starting_m\n",
        "    for i in range(num_iterations):\n",
        "        c,m=step_gradient(c, m, x,y, learning_rate)\n",
        "      #print(c,m)\n",
        "   \n",
        "def run():\n",
        "    df = pd.read_csv(r'/content/drive/My Drive/Salary_Data.csv')\n",
        "    x1=df.iloc[:,0:1]\n",
        "    y1=df.iloc[:,1:2]\n",
        "    x=np.array(x1)\n",
        "    y=np.array(y1)\n",
        "    learning_rate = 0.001\n",
        "    initial_c = 1 # initial y-intercept guess\n",
        "    initial_m = 1 # initial slope guess\n",
        "    num_iterations = 10\n",
        "    compute_error(initial_c, initial_m,x,y)\n",
        "    gradient_descent_runner(x,y, initial_c, initial_m, learning_rate, num_iterations)\n",
        "    \n",
        "\n",
        "\n",
        "run()\n",
        "it=np.arange(0,11)\n",
        "#print(er)\n",
        "#plt.plot(it,er)\n"
      ],
      "execution_count": 36,
      "outputs": []
    },
    {
      "cell_type": "code",
      "metadata": {
        "id": "pPdUJ4d58Ig9",
        "outputId": "80e48f6c-1573-452c-c49b-8e76650d229f",
        "colab": {
          "base_uri": "https://localhost:8080/",
          "height": 370
        }
      },
      "source": [
        "df = pd.read_csv(r'/content/drive/My Drive/Salary_Data.csv')\n",
        "x1=df.iloc[:,0:1]\n",
        "y1=df.iloc[:,1:2]\n",
        "x=np.array(x1)\n",
        "plt.scatter(x1,y1)\n",
        "m=max(np.array(m1))\n",
        "c=min(np.array(c1))\n",
        "e=np.array(er)\n",
        "print(er)\n",
        "e1=min(e)\n",
        "print(er.index(e1))\n",
        "optimal_m=m1[er.index(e1)]\n",
        "optimal_c=c1[er.index(e1)]\n",
        "print(\"Optimal m and c values: \",m1[er.index(e1)],c1[er.index(e1)])\n",
        "p=[]\n",
        "for i in range(0,len(x1)):\n",
        "    p.append(m1[er.index(e1)]*x[i]+c1[er.index(e1)])\n",
        "plt.plot(x1,p)\n",
        "plt.xlabel('YearsExperience')\n",
        "plt.ylabel('Salary')"
      ],
      "execution_count": 38,
      "outputs": [
        {
          "output_type": "stream",
          "text": [
            "[array([6.50184851e+09]), array([2.16091161e+08]), array([5.56540063e+08]), array([6.38537772e+08]), array([6.51956578e+08]), array([6.54269287e+08]), array([6.54877442e+08]), array([6.55226099e+08]), array([6.55535374e+08]), array([6.55838748e+08]), array([6.56141315e+08])]\n",
            "1\n",
            "Optimal m and c values:  14321.954654666666 76.99668666666668\n"
          ],
          "name": "stdout"
        },
        {
          "output_type": "execute_result",
          "data": {
            "text/plain": [
              "Text(0, 0.5, 'Salary')"
            ]
          },
          "metadata": {
            "tags": []
          },
          "execution_count": 38
        },
        {
          "output_type": "display_data",
          "data": {
            "image/png": "[encoded data removed]",
            "text/plain": [
              "<Figure size 432x288 with 1 Axes>"
            ]
          },
          "metadata": {
            "tags": [],
            "needs_background": "light"
          }
        }
      ]
    },
    {
      "cell_type": "code",
      "metadata": {
        "id": "6BpnNTk-8fqM",
        "outputId": "52936de8-aec6-41f6-960e-dfcbfc2ceb28",
        "colab": {
          "base_uri": "https://localhost:8080/",
          "height": 293
        }
      },
      "source": [
        "a=np.arange(0,11)\n",
        "plt.plot(a,er)"
      ],
      "execution_count": 39,
      "outputs": [
        {
          "output_type": "execute_result",
          "data": {
            "text/plain": [
              "[<matplotlib.lines.Line2D at 0x7fc111590c88>]"
            ]
          },
          "metadata": {
            "tags": []
          },
          "execution_count": 39
        },
        {
          "output_type": "display_data",
          "data": {
            "image/png": "[encoded data removed]",
            "text/plain": [
              "<Figure size 432x288 with 1 Axes>"
            ]
          },
          "metadata": {
            "tags": [],
            "needs_background": "light"
          }
        }
      ]
    },
    {
      "cell_type": "markdown",
      "metadata": {
        "id": "C2rFF4du9c6o"
      },
      "source": [
        "Now as we got optimal m and c values from above: **Find the salary for the experience of 4.2 years and 5.2 years from the given dataset**"
      ]
    },
    {
      "cell_type": "markdown",
      "metadata": {
        "id": "xcPH9VwO9mZR"
      },
      "source": [
        "**Salary for the experience of 4.2 years**"
      ]
    },
    {
      "cell_type": "code",
      "metadata": {
        "id": "zOYF06pI95qY",
        "outputId": "bd792f22-90db-4104-f943-241e24992ee5",
        "colab": {
          "base_uri": "https://localhost:8080/",
          "height": 34
        }
      },
      "source": [
        "optimal_m"
      ],
      "execution_count": 22,
      "outputs": [
        {
          "output_type": "execute_result",
          "data": {
            "text/plain": [
              "14321.954654666666"
            ]
          },
          "metadata": {
            "tags": []
          },
          "execution_count": 22
        }
      ]
    },
    {
      "cell_type": "code",
      "metadata": {
        "id": "SmPgVb85-Lwp",
        "outputId": "9e89cf0d-f1c1-41d7-da77-4d15b7697d92",
        "colab": {
          "base_uri": "https://localhost:8080/",
          "height": 34
        }
      },
      "source": [
        "optimal_c"
      ],
      "execution_count": 23,
      "outputs": [
        {
          "output_type": "execute_result",
          "data": {
            "text/plain": [
              "76.99668666666668"
            ]
          },
          "metadata": {
            "tags": []
          },
          "execution_count": 23
        }
      ]
    },
    {
      "cell_type": "code",
      "metadata": {
        "id": "onARjcg1-NCo",
        "outputId": "3cf5a27b-a327-43d9-998f-a0ba473bc798",
        "colab": {
          "base_uri": "https://localhost:8080/",
          "height": 34
        }
      },
      "source": [
        "print(\"The salary for the experience of 4.2 years: \",round((optimal_m)*(4.2)+(optimal_c)))"
      ],
      "execution_count": 28,
      "outputs": [
        {
          "output_type": "stream",
          "text": [
            "The salary for the experience of 4.2 years:  60229.0\n"
          ],
          "name": "stdout"
        }
      ]
    },
    {
      "cell_type": "markdown",
      "metadata": {
        "id": "wjH4YXOX-5vL"
      },
      "source": [
        "**Salary for the experience of 5.2 years:**"
      ]
    },
    {
      "cell_type": "code",
      "metadata": {
        "id": "6yCtjWTQ-TZV",
        "outputId": "4831f50b-81e3-4a1e-b641-a1fa9b2ebc3f",
        "colab": {
          "base_uri": "https://localhost:8080/",
          "height": 34
        }
      },
      "source": [
        "print(\"The salary for the experience of 5.2 years: \",round((optimal_m)*(5.2)+(optimal_c)))"
      ],
      "execution_count": 33,
      "outputs": [
        {
          "output_type": "stream",
          "text": [
            "The salary for the experience of 5.2 years:  74551.0\n"
          ],
          "name": "stdout"
        }
      ]
    },
    {
      "cell_type": "markdown",
      "metadata": {
        "id": "XLOvHH7e_mTc"
      },
      "source": [
        "**Generalized prediction:**"
      ]
    },
    {
      "cell_type": "code",
      "metadata": {
        "id": "aZpwC1nQ_Er5",
        "outputId": "c30a7d0b-d72a-4dc4-9866-6acbfa5a6656",
        "colab": {
          "base_uri": "https://localhost:8080/",
          "height": 52
        }
      },
      "source": [
        "exp=float(input(\"Enter the experience to predict salary:\"))\n",
        "print(\"The salary predicted: \",round((optimal_m)*(exp)+(optimal_c)))"
      ],
      "execution_count": 31,
      "outputs": [
        {
          "output_type": "stream",
          "text": [
            "Enter the experience to predict salary:5.2\n",
            "The salary predicted:  74551.0\n"
          ],
          "name": "stdout"
        }
      ]
    },
    {
      "cell_type": "code",
      "metadata": {
        "id": "il-wHVUOB-TU"
      },
      "source": [
        ""
      ],
      "execution_count": null,
      "outputs": []
    },
    {
      "cell_type": "code",
      "metadata": {
        "id": "WmX-rj4eBE9b"
      },
      "source": [
        ""
      ],
      "execution_count": null,
      "outputs": []
    }
  ]
}